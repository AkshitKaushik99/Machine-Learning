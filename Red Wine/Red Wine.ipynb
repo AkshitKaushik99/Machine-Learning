{
 "cells": [
  {
   "cell_type": "code",
   "execution_count": 3,
   "id": "ce9a57aa",
   "metadata": {},
   "outputs": [],
   "source": [
    "import pandas as pd\n",
    "import matplotlib.pyplot as plt\n",
    "import numpy as np\n",
    "import seaborn as sns\n",
    "from sklearn.model_selection import train_test_split\n",
    "from sklearn.metrics import confusion_matrix,classification_report\n",
    "from sklearn.model_selection import train_test_split\n",
    "from sklearn.metrics import confusion_matrix,classification_report\n",
    "from sklearn.linear_model import LogisticRegression\n",
    "from sklearn.tree import DecisionTreeClassifier\n",
    "from sklearn.ensemble import RandomForestClassifier,AdaBoostClassifier\n",
    "from sklearn.neighbors import KNeighborsClassifier\n",
    "from xgboost import XGBClassifier\n",
    "from sklearn.naive_bayes import GaussianNB\n",
    "from sklearn.svm import SVC\n",
    "from sklearn.tree import DecisionTreeClassifier, plot_tree, export_text\n",
    "from sklearn.model_selection import cross_val_score,KFold\n",
    "from sklearn.metrics import mean_squared_error, mean_absolute_error"
   ]
  },
  {
   "cell_type": "markdown",
   "id": "8c490d9f",
   "metadata": {},
   "source": [
    "# Importing Data-Set"
   ]
  },
  {
   "cell_type": "code",
   "execution_count": 66,
   "id": "d71cc89a",
   "metadata": {},
   "outputs": [
    {
     "data": {
      "text/html": [
       "<div>\n",
       "<style scoped>\n",
       "    .dataframe tbody tr th:only-of-type {\n",
       "        vertical-align: middle;\n",
       "    }\n",
       "\n",
       "    .dataframe tbody tr th {\n",
       "        vertical-align: top;\n",
       "    }\n",
       "\n",
       "    .dataframe thead th {\n",
       "        text-align: right;\n",
       "    }\n",
       "</style>\n",
       "<table border=\"1\" class=\"dataframe\">\n",
       "  <thead>\n",
       "    <tr style=\"text-align: right;\">\n",
       "      <th></th>\n",
       "      <th>fixed acidity</th>\n",
       "      <th>volatile acidity</th>\n",
       "      <th>citric acid</th>\n",
       "      <th>residual sugar</th>\n",
       "      <th>chlorides</th>\n",
       "      <th>free sulfur dioxide</th>\n",
       "      <th>total sulfur dioxide</th>\n",
       "      <th>density</th>\n",
       "      <th>pH</th>\n",
       "      <th>sulphates</th>\n",
       "      <th>alcohol</th>\n",
       "      <th>quality</th>\n",
       "    </tr>\n",
       "  </thead>\n",
       "  <tbody>\n",
       "    <tr>\n",
       "      <th>0</th>\n",
       "      <td>7.4</td>\n",
       "      <td>0.70</td>\n",
       "      <td>0.00</td>\n",
       "      <td>1.9</td>\n",
       "      <td>0.076</td>\n",
       "      <td>11.0</td>\n",
       "      <td>34.0</td>\n",
       "      <td>0.9978</td>\n",
       "      <td>3.51</td>\n",
       "      <td>0.56</td>\n",
       "      <td>9.4</td>\n",
       "      <td>5</td>\n",
       "    </tr>\n",
       "    <tr>\n",
       "      <th>1</th>\n",
       "      <td>7.8</td>\n",
       "      <td>0.88</td>\n",
       "      <td>0.00</td>\n",
       "      <td>2.6</td>\n",
       "      <td>0.098</td>\n",
       "      <td>25.0</td>\n",
       "      <td>67.0</td>\n",
       "      <td>0.9968</td>\n",
       "      <td>3.20</td>\n",
       "      <td>0.68</td>\n",
       "      <td>9.8</td>\n",
       "      <td>5</td>\n",
       "    </tr>\n",
       "    <tr>\n",
       "      <th>2</th>\n",
       "      <td>7.8</td>\n",
       "      <td>0.76</td>\n",
       "      <td>0.04</td>\n",
       "      <td>2.3</td>\n",
       "      <td>0.092</td>\n",
       "      <td>15.0</td>\n",
       "      <td>54.0</td>\n",
       "      <td>0.9970</td>\n",
       "      <td>3.26</td>\n",
       "      <td>0.65</td>\n",
       "      <td>9.8</td>\n",
       "      <td>5</td>\n",
       "    </tr>\n",
       "    <tr>\n",
       "      <th>3</th>\n",
       "      <td>11.2</td>\n",
       "      <td>0.28</td>\n",
       "      <td>0.56</td>\n",
       "      <td>1.9</td>\n",
       "      <td>0.075</td>\n",
       "      <td>17.0</td>\n",
       "      <td>60.0</td>\n",
       "      <td>0.9980</td>\n",
       "      <td>3.16</td>\n",
       "      <td>0.58</td>\n",
       "      <td>9.8</td>\n",
       "      <td>6</td>\n",
       "    </tr>\n",
       "    <tr>\n",
       "      <th>4</th>\n",
       "      <td>7.4</td>\n",
       "      <td>0.70</td>\n",
       "      <td>0.00</td>\n",
       "      <td>1.9</td>\n",
       "      <td>0.076</td>\n",
       "      <td>11.0</td>\n",
       "      <td>34.0</td>\n",
       "      <td>0.9978</td>\n",
       "      <td>3.51</td>\n",
       "      <td>0.56</td>\n",
       "      <td>9.4</td>\n",
       "      <td>5</td>\n",
       "    </tr>\n",
       "  </tbody>\n",
       "</table>\n",
       "</div>"
      ],
      "text/plain": [
       "   fixed acidity  volatile acidity  citric acid  residual sugar  chlorides  \\\n",
       "0            7.4              0.70         0.00             1.9      0.076   \n",
       "1            7.8              0.88         0.00             2.6      0.098   \n",
       "2            7.8              0.76         0.04             2.3      0.092   \n",
       "3           11.2              0.28         0.56             1.9      0.075   \n",
       "4            7.4              0.70         0.00             1.9      0.076   \n",
       "\n",
       "   free sulfur dioxide  total sulfur dioxide  density    pH  sulphates  \\\n",
       "0                 11.0                  34.0   0.9978  3.51       0.56   \n",
       "1                 25.0                  67.0   0.9968  3.20       0.68   \n",
       "2                 15.0                  54.0   0.9970  3.26       0.65   \n",
       "3                 17.0                  60.0   0.9980  3.16       0.58   \n",
       "4                 11.0                  34.0   0.9978  3.51       0.56   \n",
       "\n",
       "   alcohol  quality  \n",
       "0      9.4        5  \n",
       "1      9.8        5  \n",
       "2      9.8        5  \n",
       "3      9.8        6  \n",
       "4      9.4        5  "
      ]
     },
     "execution_count": 66,
     "metadata": {},
     "output_type": "execute_result"
    }
   ],
   "source": [
    "df = pd.read_csv('winequality-red.csv')\n",
    "df.head()"
   ]
  },
  {
   "cell_type": "code",
   "execution_count": 6,
   "id": "4b648c26",
   "metadata": {},
   "outputs": [
    {
     "data": {
      "text/plain": [
       "(1599, 12)"
      ]
     },
     "execution_count": 6,
     "metadata": {},
     "output_type": "execute_result"
    }
   ],
   "source": [
    "df.shape"
   ]
  },
  {
   "cell_type": "markdown",
   "id": "e35b141b",
   "metadata": {},
   "source": [
    "### Checking Nunll Values "
   ]
  },
  {
   "cell_type": "code",
   "execution_count": 7,
   "id": "a8585d22",
   "metadata": {},
   "outputs": [
    {
     "data": {
      "text/plain": [
       "fixed acidity           0\n",
       "volatile acidity        0\n",
       "citric acid             0\n",
       "residual sugar          0\n",
       "chlorides               0\n",
       "free sulfur dioxide     0\n",
       "total sulfur dioxide    0\n",
       "density                 0\n",
       "pH                      0\n",
       "sulphates               0\n",
       "alcohol                 0\n",
       "quality                 0\n",
       "dtype: int64"
      ]
     },
     "execution_count": 7,
     "metadata": {},
     "output_type": "execute_result"
    }
   ],
   "source": [
    "df.isnull().sum()"
   ]
  },
  {
   "cell_type": "markdown",
   "id": "ca00a0c1",
   "metadata": {},
   "source": [
    "### Checking Duplicates"
   ]
  },
  {
   "cell_type": "code",
   "execution_count": 8,
   "id": "92ca2589",
   "metadata": {},
   "outputs": [
    {
     "data": {
      "text/plain": [
       "240"
      ]
     },
     "execution_count": 8,
     "metadata": {},
     "output_type": "execute_result"
    }
   ],
   "source": [
    "df.duplicated().sum()"
   ]
  },
  {
   "cell_type": "code",
   "execution_count": 10,
   "id": "d9e1282e",
   "metadata": {},
   "outputs": [],
   "source": [
    "df.drop_duplicates(inplace = True )"
   ]
  },
  {
   "cell_type": "code",
   "execution_count": 11,
   "id": "f950102e",
   "metadata": {},
   "outputs": [
    {
     "data": {
      "text/plain": [
       "0"
      ]
     },
     "execution_count": 11,
     "metadata": {},
     "output_type": "execute_result"
    }
   ],
   "source": [
    "df.duplicated().sum()"
   ]
  },
  {
   "cell_type": "markdown",
   "id": "b1cd2000",
   "metadata": {},
   "source": [
    "# EDA"
   ]
  },
  {
   "cell_type": "code",
   "execution_count": 17,
   "id": "e3ac50b6",
   "metadata": {},
   "outputs": [
    {
     "data": {
      "text/plain": [
       "Index(['fixed acidity', 'volatile acidity', 'citric acid', 'residual sugar',\n",
       "       'chlorides', 'free sulfur dioxide', 'total sulfur dioxide', 'density',\n",
       "       'pH', 'sulphates', 'alcohol', 'quality'],\n",
       "      dtype='object')"
      ]
     },
     "execution_count": 17,
     "metadata": {},
     "output_type": "execute_result"
    }
   ],
   "source": [
    "df.columns"
   ]
  },
  {
   "cell_type": "code",
   "execution_count": 20,
   "id": "8522a29a",
   "metadata": {},
   "outputs": [
    {
     "data": {
      "text/plain": [
       "fixed acidity           float64\n",
       "volatile acidity        float64\n",
       "citric acid             float64\n",
       "residual sugar          float64\n",
       "chlorides               float64\n",
       "free sulfur dioxide     float64\n",
       "total sulfur dioxide    float64\n",
       "density                 float64\n",
       "pH                      float64\n",
       "sulphates               float64\n",
       "alcohol                 float64\n",
       "quality                   int64\n",
       "dtype: object"
      ]
     },
     "execution_count": 20,
     "metadata": {},
     "output_type": "execute_result"
    }
   ],
   "source": [
    "df.dtypes"
   ]
  },
  {
   "cell_type": "code",
   "execution_count": 45,
   "id": "3f44ddbc",
   "metadata": {},
   "outputs": [],
   "source": [
    "def analysis(x):\n",
    "    print(f'Analysis on {x}')\n",
    "    print('Unique Count:',df[x].nunique())\n",
    "    "
   ]
  },
  {
   "cell_type": "code",
   "execution_count": 46,
   "id": "8505a01b",
   "metadata": {},
   "outputs": [
    {
     "name": "stdout",
     "output_type": "stream",
     "text": [
      "Analysis on fixed acidity\n",
      "Unique Count: 96\n",
      "Analysis on volatile acidity\n",
      "Unique Count: 143\n",
      "Analysis on citric acid\n",
      "Unique Count: 80\n",
      "Analysis on residual sugar\n",
      "Unique Count: 91\n",
      "Analysis on chlorides\n",
      "Unique Count: 153\n",
      "Analysis on free sulfur dioxide\n",
      "Unique Count: 60\n",
      "Analysis on total sulfur dioxide\n",
      "Unique Count: 144\n",
      "Analysis on density\n",
      "Unique Count: 436\n",
      "Analysis on pH\n",
      "Unique Count: 89\n",
      "Analysis on sulphates\n",
      "Unique Count: 96\n",
      "Analysis on alcohol\n",
      "Unique Count: 65\n",
      "Analysis on quality\n",
      "Unique Count: 6\n"
     ]
    }
   ],
   "source": [
    "for i in df.columns:\n",
    "    analysis(i)"
   ]
  },
  {
   "cell_type": "markdown",
   "id": "8be78f9b",
   "metadata": {},
   "source": [
    "### Checking Correlation"
   ]
  },
  {
   "cell_type": "code",
   "execution_count": 58,
   "id": "b63c9254",
   "metadata": {},
   "outputs": [
    {
     "data": {
      "image/png": "[encoded data removed]",
      "text/plain": [
       "<Figure size 1080x1080 with 2 Axes>"
      ]
     },
     "metadata": {
      "needs_background": "light"
     },
     "output_type": "display_data"
    }
   ],
   "source": [
    "corr = df.corr()\n",
    "plt.figure(figsize=(15,15))\n",
    "sns.heatmap(corr[corr >0.6],annot=True,cmap='coolwarm')\n",
    "plt.show()"
   ]
  },
  {
   "cell_type": "markdown",
   "id": "61e2e0db",
   "metadata": {},
   "source": [
    "## infrence \n",
    "high corelation between  free sulfur dioxide and total sulfur dioxide<br>\n",
    "high corelation between of  fixed acidity   with density and citric acid"
   ]
  },
  {
   "cell_type": "code",
   "execution_count": null,
   "id": "2e8bc03a",
   "metadata": {},
   "outputs": [],
   "source": [
    "# droping high correlated "
   ]
  },
  {
   "cell_type": "code",
   "execution_count": 67,
   "id": "a5464aa8",
   "metadata": {},
   "outputs": [
    {
     "data": {
      "text/html": [
       "<div>\n",
       "<style scoped>\n",
       "    .dataframe tbody tr th:only-of-type {\n",
       "        vertical-align: middle;\n",
       "    }\n",
       "\n",
       "    .dataframe tbody tr th {\n",
       "        vertical-align: top;\n",
       "    }\n",
       "\n",
       "    .dataframe thead th {\n",
       "        text-align: right;\n",
       "    }\n",
       "</style>\n",
       "<table border=\"1\" class=\"dataframe\">\n",
       "  <thead>\n",
       "    <tr style=\"text-align: right;\">\n",
       "      <th></th>\n",
       "      <th>volatile acidity</th>\n",
       "      <th>citric acid</th>\n",
       "      <th>residual sugar</th>\n",
       "      <th>chlorides</th>\n",
       "      <th>total sulfur dioxide</th>\n",
       "      <th>density</th>\n",
       "      <th>pH</th>\n",
       "      <th>sulphates</th>\n",
       "      <th>alcohol</th>\n",
       "      <th>quality</th>\n",
       "    </tr>\n",
       "  </thead>\n",
       "  <tbody>\n",
       "    <tr>\n",
       "      <th>0</th>\n",
       "      <td>0.70</td>\n",
       "      <td>0.00</td>\n",
       "      <td>1.9</td>\n",
       "      <td>0.076</td>\n",
       "      <td>34.0</td>\n",
       "      <td>0.9978</td>\n",
       "      <td>3.51</td>\n",
       "      <td>0.56</td>\n",
       "      <td>9.4</td>\n",
       "      <td>5</td>\n",
       "    </tr>\n",
       "    <tr>\n",
       "      <th>1</th>\n",
       "      <td>0.88</td>\n",
       "      <td>0.00</td>\n",
       "      <td>2.6</td>\n",
       "      <td>0.098</td>\n",
       "      <td>67.0</td>\n",
       "      <td>0.9968</td>\n",
       "      <td>3.20</td>\n",
       "      <td>0.68</td>\n",
       "      <td>9.8</td>\n",
       "      <td>5</td>\n",
       "    </tr>\n",
       "    <tr>\n",
       "      <th>2</th>\n",
       "      <td>0.76</td>\n",
       "      <td>0.04</td>\n",
       "      <td>2.3</td>\n",
       "      <td>0.092</td>\n",
       "      <td>54.0</td>\n",
       "      <td>0.9970</td>\n",
       "      <td>3.26</td>\n",
       "      <td>0.65</td>\n",
       "      <td>9.8</td>\n",
       "      <td>5</td>\n",
       "    </tr>\n",
       "    <tr>\n",
       "      <th>3</th>\n",
       "      <td>0.28</td>\n",
       "      <td>0.56</td>\n",
       "      <td>1.9</td>\n",
       "      <td>0.075</td>\n",
       "      <td>60.0</td>\n",
       "      <td>0.9980</td>\n",
       "      <td>3.16</td>\n",
       "      <td>0.58</td>\n",
       "      <td>9.8</td>\n",
       "      <td>6</td>\n",
       "    </tr>\n",
       "    <tr>\n",
       "      <th>4</th>\n",
       "      <td>0.70</td>\n",
       "      <td>0.00</td>\n",
       "      <td>1.9</td>\n",
       "      <td>0.076</td>\n",
       "      <td>34.0</td>\n",
       "      <td>0.9978</td>\n",
       "      <td>3.51</td>\n",
       "      <td>0.56</td>\n",
       "      <td>9.4</td>\n",
       "      <td>5</td>\n",
       "    </tr>\n",
       "  </tbody>\n",
       "</table>\n",
       "</div>"
      ],
      "text/plain": [
       "   volatile acidity  citric acid  residual sugar  chlorides  \\\n",
       "0              0.70         0.00             1.9      0.076   \n",
       "1              0.88         0.00             2.6      0.098   \n",
       "2              0.76         0.04             2.3      0.092   \n",
       "3              0.28         0.56             1.9      0.075   \n",
       "4              0.70         0.00             1.9      0.076   \n",
       "\n",
       "   total sulfur dioxide  density    pH  sulphates  alcohol  quality  \n",
       "0                  34.0   0.9978  3.51       0.56      9.4        5  \n",
       "1                  67.0   0.9968  3.20       0.68      9.8        5  \n",
       "2                  54.0   0.9970  3.26       0.65      9.8        5  \n",
       "3                  60.0   0.9980  3.16       0.58      9.8        6  \n",
       "4                  34.0   0.9978  3.51       0.56      9.4        5  "
      ]
     },
     "execution_count": 67,
     "metadata": {},
     "output_type": "execute_result"
    }
   ],
   "source": [
    "df.drop(['free sulfur dioxide','fixed acidity'],axis = 1,inplace = True)\n",
    "df.head()"
   ]
  },
  {
   "cell_type": "markdown",
   "id": "38002d70",
   "metadata": {},
   "source": [
    "## Out-Liers"
   ]
  },
  {
   "cell_type": "code",
   "execution_count": 83,
   "id": "7dd64fe8",
   "metadata": {},
   "outputs": [
    {
     "data": {
      "image/png": "[encoded data removed]",
      "text/plain": [
       "<Figure size 432x288 with 1 Axes>"
      ]
     },
     "metadata": {
      "needs_background": "light"
     },
     "output_type": "display_data"
    },
    {
     "data": {
      "image/png": "[encoded data removed]",
      "text/plain": [
       "<Figure size 432x288 with 1 Axes>"
      ]
     },
     "metadata": {
      "needs_background": "light"
     },
     "output_type": "display_data"
    },
    {
     "data": {
      "image/png": "[encoded data removed]",
      "text/plain": [
       "<Figure size 432x288 with 1 Axes>"
      ]
     },
     "metadata": {
      "needs_background": "light"
     },
     "output_type": "display_data"
    },
    {
     "data": {
      "image/png": "[encoded data removed]",
      "text/plain": [
       "<Figure size 432x288 with 1 Axes>"
      ]
     },
     "metadata": {
      "needs_background": "light"
     },
     "output_type": "display_data"
    },
    {
     "data": {
      "image/png": "[encoded data removed]",
      "text/plain": [
       "<Figure size 432x288 with 1 Axes>"
      ]
     },
     "metadata": {
      "needs_background": "light"
     },
     "output_type": "display_data"
    },
    {
     "data": {
      "image/png": "[encoded data removed]",
      "text/plain": [
       "<Figure size 432x288 with 1 Axes>"
      ]
     },
     "metadata": {
      "needs_background": "light"
     },
     "output_type": "display_data"
    },
    {
     "data": {
      "image/png": "[encoded data removed]",
      "text/plain": [
       "<Figure size 432x288 with 1 Axes>"
      ]
     },
     "metadata": {
      "needs_background": "light"
     },
     "output_type": "display_data"
    },
    {
     "data": {
      "image/png": "[encoded data removed]",
      "text/plain": [
       "<Figure size 432x288 with 1 Axes>"
      ]
     },
     "metadata": {
      "needs_background": "light"
     },
     "output_type": "display_data"
    },
    {
     "data": {
      "image/png": "[encoded data removed]",
      "text/plain": [
       "<Figure size 432x288 with 1 Axes>"
      ]
     },
     "metadata": {
      "needs_background": "light"
     },
     "output_type": "display_data"
    },
    {
     "data": {
      "image/png": "[encoded data removed]",
      "text/plain": [
       "<Figure size 432x288 with 1 Axes>"
      ]
     },
     "metadata": {
      "needs_background": "light"
     },
     "output_type": "display_data"
    }
   ],
   "source": [
    "for i in df.columns:\n",
    "    sns.boxplot(x = df[i])\n",
    "    plt.show()"
   ]
  },
  {
   "cell_type": "code",
   "execution_count": 84,
   "id": "9238c601",
   "metadata": {},
   "outputs": [
    {
     "data": {
      "text/html": [
       "<div>\n",
       "<style scoped>\n",
       "    .dataframe tbody tr th:only-of-type {\n",
       "        vertical-align: middle;\n",
       "    }\n",
       "\n",
       "    .dataframe tbody tr th {\n",
       "        vertical-align: top;\n",
       "    }\n",
       "\n",
       "    .dataframe thead th {\n",
       "        text-align: right;\n",
       "    }\n",
       "</style>\n",
       "<table border=\"1\" class=\"dataframe\">\n",
       "  <thead>\n",
       "    <tr style=\"text-align: right;\">\n",
       "      <th></th>\n",
       "      <th>count</th>\n",
       "      <th>mean</th>\n",
       "      <th>std</th>\n",
       "      <th>min</th>\n",
       "      <th>1%</th>\n",
       "      <th>2%</th>\n",
       "      <th>3%</th>\n",
       "      <th>5%</th>\n",
       "      <th>50%</th>\n",
       "      <th>95%</th>\n",
       "      <th>97%</th>\n",
       "      <th>98%</th>\n",
       "      <th>99%</th>\n",
       "      <th>max</th>\n",
       "    </tr>\n",
       "  </thead>\n",
       "  <tbody>\n",
       "    <tr>\n",
       "      <th>volatile acidity</th>\n",
       "      <td>1599.0</td>\n",
       "      <td>0.527821</td>\n",
       "      <td>0.179060</td>\n",
       "      <td>0.12000</td>\n",
       "      <td>0.19000</td>\n",
       "      <td>0.22960</td>\n",
       "      <td>0.240000</td>\n",
       "      <td>0.270000</td>\n",
       "      <td>0.52000</td>\n",
       "      <td>0.8400</td>\n",
       "      <td>0.900000</td>\n",
       "      <td>0.9600</td>\n",
       "      <td>1.020000</td>\n",
       "      <td>1.58000</td>\n",
       "    </tr>\n",
       "    <tr>\n",
       "      <th>citric acid</th>\n",
       "      <td>1599.0</td>\n",
       "      <td>0.270976</td>\n",
       "      <td>0.194801</td>\n",
       "      <td>0.00000</td>\n",
       "      <td>0.00000</td>\n",
       "      <td>0.00000</td>\n",
       "      <td>0.000000</td>\n",
       "      <td>0.000000</td>\n",
       "      <td>0.26000</td>\n",
       "      <td>0.6000</td>\n",
       "      <td>0.660000</td>\n",
       "      <td>0.6800</td>\n",
       "      <td>0.700200</td>\n",
       "      <td>1.00000</td>\n",
       "    </tr>\n",
       "    <tr>\n",
       "      <th>residual sugar</th>\n",
       "      <td>1599.0</td>\n",
       "      <td>2.538806</td>\n",
       "      <td>1.409928</td>\n",
       "      <td>0.90000</td>\n",
       "      <td>1.40000</td>\n",
       "      <td>1.40000</td>\n",
       "      <td>1.400000</td>\n",
       "      <td>1.590000</td>\n",
       "      <td>2.20000</td>\n",
       "      <td>5.1000</td>\n",
       "      <td>6.006000</td>\n",
       "      <td>6.6040</td>\n",
       "      <td>8.306000</td>\n",
       "      <td>15.50000</td>\n",
       "    </tr>\n",
       "    <tr>\n",
       "      <th>chlorides</th>\n",
       "      <td>1599.0</td>\n",
       "      <td>0.087467</td>\n",
       "      <td>0.047065</td>\n",
       "      <td>0.01200</td>\n",
       "      <td>0.04298</td>\n",
       "      <td>0.04700</td>\n",
       "      <td>0.049000</td>\n",
       "      <td>0.054000</td>\n",
       "      <td>0.07900</td>\n",
       "      <td>0.1261</td>\n",
       "      <td>0.174120</td>\n",
       "      <td>0.2260</td>\n",
       "      <td>0.360160</td>\n",
       "      <td>0.61100</td>\n",
       "    </tr>\n",
       "    <tr>\n",
       "      <th>total sulfur dioxide</th>\n",
       "      <td>1599.0</td>\n",
       "      <td>46.467792</td>\n",
       "      <td>32.895324</td>\n",
       "      <td>6.00000</td>\n",
       "      <td>8.00000</td>\n",
       "      <td>9.00000</td>\n",
       "      <td>10.000000</td>\n",
       "      <td>11.000000</td>\n",
       "      <td>38.00000</td>\n",
       "      <td>112.1000</td>\n",
       "      <td>127.000000</td>\n",
       "      <td>135.0000</td>\n",
       "      <td>145.000000</td>\n",
       "      <td>289.00000</td>\n",
       "    </tr>\n",
       "    <tr>\n",
       "      <th>density</th>\n",
       "      <td>1599.0</td>\n",
       "      <td>0.996747</td>\n",
       "      <td>0.001887</td>\n",
       "      <td>0.99007</td>\n",
       "      <td>0.99182</td>\n",
       "      <td>0.99258</td>\n",
       "      <td>0.993219</td>\n",
       "      <td>0.993598</td>\n",
       "      <td>0.99675</td>\n",
       "      <td>1.0000</td>\n",
       "      <td>1.000306</td>\n",
       "      <td>1.0008</td>\n",
       "      <td>1.001506</td>\n",
       "      <td>1.00369</td>\n",
       "    </tr>\n",
       "    <tr>\n",
       "      <th>pH</th>\n",
       "      <td>1599.0</td>\n",
       "      <td>3.311113</td>\n",
       "      <td>0.154386</td>\n",
       "      <td>2.74000</td>\n",
       "      <td>2.93000</td>\n",
       "      <td>3.00000</td>\n",
       "      <td>3.029400</td>\n",
       "      <td>3.060000</td>\n",
       "      <td>3.31000</td>\n",
       "      <td>3.5700</td>\n",
       "      <td>3.600600</td>\n",
       "      <td>3.6600</td>\n",
       "      <td>3.700200</td>\n",
       "      <td>4.01000</td>\n",
       "    </tr>\n",
       "    <tr>\n",
       "      <th>sulphates</th>\n",
       "      <td>1599.0</td>\n",
       "      <td>0.658149</td>\n",
       "      <td>0.169507</td>\n",
       "      <td>0.33000</td>\n",
       "      <td>0.42000</td>\n",
       "      <td>0.44000</td>\n",
       "      <td>0.450000</td>\n",
       "      <td>0.470000</td>\n",
       "      <td>0.62000</td>\n",
       "      <td>0.9300</td>\n",
       "      <td>1.050000</td>\n",
       "      <td>1.1300</td>\n",
       "      <td>1.260400</td>\n",
       "      <td>2.00000</td>\n",
       "    </tr>\n",
       "    <tr>\n",
       "      <th>alcohol</th>\n",
       "      <td>1599.0</td>\n",
       "      <td>10.422983</td>\n",
       "      <td>1.065668</td>\n",
       "      <td>8.40000</td>\n",
       "      <td>9.00000</td>\n",
       "      <td>9.00000</td>\n",
       "      <td>9.100000</td>\n",
       "      <td>9.200000</td>\n",
       "      <td>10.20000</td>\n",
       "      <td>12.5000</td>\n",
       "      <td>12.800000</td>\n",
       "      <td>12.9000</td>\n",
       "      <td>13.400000</td>\n",
       "      <td>14.90000</td>\n",
       "    </tr>\n",
       "    <tr>\n",
       "      <th>quality</th>\n",
       "      <td>1599.0</td>\n",
       "      <td>5.636023</td>\n",
       "      <td>0.807569</td>\n",
       "      <td>3.00000</td>\n",
       "      <td>4.00000</td>\n",
       "      <td>4.00000</td>\n",
       "      <td>4.000000</td>\n",
       "      <td>5.000000</td>\n",
       "      <td>6.00000</td>\n",
       "      <td>7.0000</td>\n",
       "      <td>7.000000</td>\n",
       "      <td>7.0000</td>\n",
       "      <td>8.000000</td>\n",
       "      <td>8.00000</td>\n",
       "    </tr>\n",
       "  </tbody>\n",
       "</table>\n",
       "</div>"
      ],
      "text/plain": [
       "                       count       mean        std      min       1%       2%  \\\n",
       "volatile acidity      1599.0   0.527821   0.179060  0.12000  0.19000  0.22960   \n",
       "citric acid           1599.0   0.270976   0.194801  0.00000  0.00000  0.00000   \n",
       "residual sugar        1599.0   2.538806   1.409928  0.90000  1.40000  1.40000   \n",
       "chlorides             1599.0   0.087467   0.047065  0.01200  0.04298  0.04700   \n",
       "total sulfur dioxide  1599.0  46.467792  32.895324  6.00000  8.00000  9.00000   \n",
       "density               1599.0   0.996747   0.001887  0.99007  0.99182  0.99258   \n",
       "pH                    1599.0   3.311113   0.154386  2.74000  2.93000  3.00000   \n",
       "sulphates             1599.0   0.658149   0.169507  0.33000  0.42000  0.44000   \n",
       "alcohol               1599.0  10.422983   1.065668  8.40000  9.00000  9.00000   \n",
       "quality               1599.0   5.636023   0.807569  3.00000  4.00000  4.00000   \n",
       "\n",
       "                             3%         5%       50%       95%         97%  \\\n",
       "volatile acidity       0.240000   0.270000   0.52000    0.8400    0.900000   \n",
       "citric acid            0.000000   0.000000   0.26000    0.6000    0.660000   \n",
       "residual sugar         1.400000   1.590000   2.20000    5.1000    6.006000   \n",
       "chlorides              0.049000   0.054000   0.07900    0.1261    0.174120   \n",
       "total sulfur dioxide  10.000000  11.000000  38.00000  112.1000  127.000000   \n",
       "density                0.993219   0.993598   0.99675    1.0000    1.000306   \n",
       "pH                     3.029400   3.060000   3.31000    3.5700    3.600600   \n",
       "sulphates              0.450000   0.470000   0.62000    0.9300    1.050000   \n",
       "alcohol                9.100000   9.200000  10.20000   12.5000   12.800000   \n",
       "quality                4.000000   5.000000   6.00000    7.0000    7.000000   \n",
       "\n",
       "                           98%         99%        max  \n",
       "volatile acidity        0.9600    1.020000    1.58000  \n",
       "citric acid             0.6800    0.700200    1.00000  \n",
       "residual sugar          6.6040    8.306000   15.50000  \n",
       "chlorides               0.2260    0.360160    0.61100  \n",
       "total sulfur dioxide  135.0000  145.000000  289.00000  \n",
       "density                 1.0008    1.001506    1.00369  \n",
       "pH                      3.6600    3.700200    4.01000  \n",
       "sulphates               1.1300    1.260400    2.00000  \n",
       "alcohol                12.9000   13.400000   14.90000  \n",
       "quality                 7.0000    8.000000    8.00000  "
      ]
     },
     "execution_count": 84,
     "metadata": {},
     "output_type": "execute_result"
    }
   ],
   "source": [
    "df.describe(percentiles=[0.01,0.02,0.03,0.05,0.95,0.97,0.98,0.99]).T"
   ]
  },
  {
   "cell_type": "code",
   "execution_count": 95,
   "id": "5cde1ea9",
   "metadata": {},
   "outputs": [
    {
     "name": "stdout",
     "output_type": "stream",
     "text": [
      "(0, 10)\n",
      "(0, 10)\n",
      "(0, 10)\n",
      "(80, 10)\n",
      "(0, 10)\n",
      "(0, 10)\n",
      "(0, 10)\n",
      "(0, 10)\n"
     ]
    }
   ],
   "source": [
    "print(df[df['volatile acidity']>1.020000].shape)\n",
    "print(df[df['residual sugar']>8.306000].shape)\n",
    "print(df[df['chlorides']>0.360160].shape)\n",
    "print(df[df['total sulfur dioxide']> 112.000000].shape)\n",
    "print(df[df['density']>1.001506].shape)\n",
    "print(df[df['pH']>3.700200].shape)\n",
    "print(df[df['sulphates']>1.260400].shape)\n",
    "print(df[df['alcohol']>13.400000].shape)"
   ]
  },
  {
   "cell_type": "code",
   "execution_count": 96,
   "id": "7f62726f",
   "metadata": {},
   "outputs": [],
   "source": [
    "def outlier_treatment(x):\n",
    "    x = x.clip(upper=x.quantile(0.95))\n",
    "    x = x.clip(lower=x.quantile(0.02))\n",
    "    return x"
   ]
  },
  {
   "cell_type": "code",
   "execution_count": 89,
   "id": "8ca78239",
   "metadata": {},
   "outputs": [],
   "source": [
    "outlier_cols = ['volatile acidity'\n",
    ",'residual sugar'\n",
    ",'chlorides'\n",
    ",'total sulfur dioxide'\n",
    ",'density'\n",
    ",'pH'\n",
    ",'sulphates'\n",
    ",'alcohol']"
   ]
  },
  {
   "cell_type": "code",
   "execution_count": 97,
   "id": "d52f2c42",
   "metadata": {},
   "outputs": [],
   "source": [
    "df[outlier_cols] = df[outlier_cols].apply(outlier_treatment)"
   ]
  },
  {
   "cell_type": "code",
   "execution_count": 98,
   "id": "9c0937e0",
   "metadata": {},
   "outputs": [
    {
     "data": {
      "image/png": "[encoded data removed]",
      "text/plain": [
       "<Figure size 432x288 with 1 Axes>"
      ]
     },
     "metadata": {
      "needs_background": "light"
     },
     "output_type": "display_data"
    },
    {
     "data": {
      "image/png": "[encoded data removed]",
      "text/plain": [
       "<Figure size 432x288 with 1 Axes>"
      ]
     },
     "metadata": {
      "needs_background": "light"
     },
     "output_type": "display_data"
    },
    {
     "data": {
      "image/png": "[encoded data removed]",
      "text/plain": [
       "<Figure size 432x288 with 1 Axes>"
      ]
     },
     "metadata": {
      "needs_background": "light"
     },
     "output_type": "display_data"
    },
    {
     "data": {
      "image/png": "[encoded data removed]",
      "text/plain": [
       "<Figure size 432x288 with 1 Axes>"
      ]
     },
     "metadata": {
      "needs_background": "light"
     },
     "output_type": "display_data"
    },
    {
     "data": {
      "image/png": "[encoded data removed]",
      "text/plain": [
       "<Figure size 432x288 with 1 Axes>"
      ]
     },
     "metadata": {
      "needs_background": "light"
     },
     "output_type": "display_data"
    },
    {
     "data": {
      "image/png": "[encoded data removed]",
      "text/plain": [
       "<Figure size 432x288 with 1 Axes>"
      ]
     },
     "metadata": {
      "needs_background": "light"
     },
     "output_type": "display_data"
    },
    {
     "data": {
      "image/png": "[encoded data removed]",
      "text/plain": [
       "<Figure size 432x288 with 1 Axes>"
      ]
     },
     "metadata": {
      "needs_background": "light"
     },
     "output_type": "display_data"
    },
    {
     "data": {
      "image/png": "[encoded data removed]",
      "text/plain": [
       "<Figure size 432x288 with 1 Axes>"
      ]
     },
     "metadata": {
      "needs_background": "light"
     },
     "output_type": "display_data"
    },
    {
     "data": {
      "image/png": "[encoded data removed]",
      "text/plain": [
       "<Figure size 432x288 with 1 Axes>"
      ]
     },
     "metadata": {
      "needs_background": "light"
     },
     "output_type": "display_data"
    },
    {
     "data": {
      "image/png": "[encoded data removed]",
      "text/plain": [
       "<Figure size 432x288 with 1 Axes>"
      ]
     },
     "metadata": {
      "needs_background": "light"
     },
     "output_type": "display_data"
    }
   ],
   "source": [
    "for i in df.columns:\n",
    "    sns.boxplot(x = df[i])\n",
    "    plt.show()"
   ]
  },
  {
   "cell_type": "markdown",
   "id": "6865923c",
   "metadata": {},
   "source": [
    "### Checking Target Valriable"
   ]
  },
  {
   "cell_type": "code",
   "execution_count": 101,
   "id": "dfb1bddb",
   "metadata": {},
   "outputs": [
    {
     "data": {
      "text/plain": [
       "5    681\n",
       "6    638\n",
       "7    199\n",
       "4     53\n",
       "8     18\n",
       "3     10\n",
       "Name: quality, dtype: int64"
      ]
     },
     "execution_count": 101,
     "metadata": {},
     "output_type": "execute_result"
    }
   ],
   "source": [
    "df['quality'].value_counts()"
   ]
  },
  {
   "cell_type": "code",
   "execution_count": null,
   "id": "a49c2821",
   "metadata": {},
   "outputs": [],
   "source": [
    "# encoding quality on bases of 7 and above means good(1) and less(0)"
   ]
  },
  {
   "cell_type": "code",
   "execution_count": 104,
   "id": "e3403567",
   "metadata": {},
   "outputs": [],
   "source": [
    "df['quality'] = [1 if i>=7 else 0 for i in df['quality']]"
   ]
  },
  {
   "cell_type": "code",
   "execution_count": 107,
   "id": "c2ab5018",
   "metadata": {},
   "outputs": [],
   "source": [
    "df.drop(['quality_en'],axis =1,inplace =True)"
   ]
  },
  {
   "cell_type": "code",
   "execution_count": 108,
   "id": "e34f86bc",
   "metadata": {
    "collapsed": true
   },
   "outputs": [
    {
     "data": {
      "text/html": [
       "<div>\n",
       "<style scoped>\n",
       "    .dataframe tbody tr th:only-of-type {\n",
       "        vertical-align: middle;\n",
       "    }\n",
       "\n",
       "    .dataframe tbody tr th {\n",
       "        vertical-align: top;\n",
       "    }\n",
       "\n",
       "    .dataframe thead th {\n",
       "        text-align: right;\n",
       "    }\n",
       "</style>\n",
       "<table border=\"1\" class=\"dataframe\">\n",
       "  <thead>\n",
       "    <tr style=\"text-align: right;\">\n",
       "      <th></th>\n",
       "      <th>volatile acidity</th>\n",
       "      <th>citric acid</th>\n",
       "      <th>residual sugar</th>\n",
       "      <th>chlorides</th>\n",
       "      <th>total sulfur dioxide</th>\n",
       "      <th>density</th>\n",
       "      <th>pH</th>\n",
       "      <th>sulphates</th>\n",
       "      <th>alcohol</th>\n",
       "      <th>quality</th>\n",
       "    </tr>\n",
       "  </thead>\n",
       "  <tbody>\n",
       "    <tr>\n",
       "      <th>0</th>\n",
       "      <td>0.700</td>\n",
       "      <td>0.00</td>\n",
       "      <td>1.9</td>\n",
       "      <td>0.0760</td>\n",
       "      <td>34.0</td>\n",
       "      <td>0.9978</td>\n",
       "      <td>3.51</td>\n",
       "      <td>0.56</td>\n",
       "      <td>9.4</td>\n",
       "      <td>0</td>\n",
       "    </tr>\n",
       "    <tr>\n",
       "      <th>1</th>\n",
       "      <td>0.840</td>\n",
       "      <td>0.00</td>\n",
       "      <td>2.6</td>\n",
       "      <td>0.0980</td>\n",
       "      <td>67.0</td>\n",
       "      <td>0.9968</td>\n",
       "      <td>3.20</td>\n",
       "      <td>0.68</td>\n",
       "      <td>9.8</td>\n",
       "      <td>0</td>\n",
       "    </tr>\n",
       "    <tr>\n",
       "      <th>2</th>\n",
       "      <td>0.760</td>\n",
       "      <td>0.04</td>\n",
       "      <td>2.3</td>\n",
       "      <td>0.0920</td>\n",
       "      <td>54.0</td>\n",
       "      <td>0.9970</td>\n",
       "      <td>3.26</td>\n",
       "      <td>0.65</td>\n",
       "      <td>9.8</td>\n",
       "      <td>0</td>\n",
       "    </tr>\n",
       "    <tr>\n",
       "      <th>3</th>\n",
       "      <td>0.280</td>\n",
       "      <td>0.56</td>\n",
       "      <td>1.9</td>\n",
       "      <td>0.0750</td>\n",
       "      <td>60.0</td>\n",
       "      <td>0.9980</td>\n",
       "      <td>3.16</td>\n",
       "      <td>0.58</td>\n",
       "      <td>9.8</td>\n",
       "      <td>0</td>\n",
       "    </tr>\n",
       "    <tr>\n",
       "      <th>4</th>\n",
       "      <td>0.700</td>\n",
       "      <td>0.00</td>\n",
       "      <td>1.9</td>\n",
       "      <td>0.0760</td>\n",
       "      <td>34.0</td>\n",
       "      <td>0.9978</td>\n",
       "      <td>3.51</td>\n",
       "      <td>0.56</td>\n",
       "      <td>9.4</td>\n",
       "      <td>0</td>\n",
       "    </tr>\n",
       "    <tr>\n",
       "      <th>5</th>\n",
       "      <td>0.660</td>\n",
       "      <td>0.00</td>\n",
       "      <td>1.8</td>\n",
       "      <td>0.0750</td>\n",
       "      <td>40.0</td>\n",
       "      <td>0.9978</td>\n",
       "      <td>3.51</td>\n",
       "      <td>0.56</td>\n",
       "      <td>9.4</td>\n",
       "      <td>0</td>\n",
       "    </tr>\n",
       "    <tr>\n",
       "      <th>6</th>\n",
       "      <td>0.600</td>\n",
       "      <td>0.06</td>\n",
       "      <td>1.6</td>\n",
       "      <td>0.0690</td>\n",
       "      <td>59.0</td>\n",
       "      <td>0.9964</td>\n",
       "      <td>3.30</td>\n",
       "      <td>0.46</td>\n",
       "      <td>9.4</td>\n",
       "      <td>0</td>\n",
       "    </tr>\n",
       "    <tr>\n",
       "      <th>7</th>\n",
       "      <td>0.650</td>\n",
       "      <td>0.00</td>\n",
       "      <td>1.4</td>\n",
       "      <td>0.0650</td>\n",
       "      <td>21.0</td>\n",
       "      <td>0.9946</td>\n",
       "      <td>3.39</td>\n",
       "      <td>0.47</td>\n",
       "      <td>10.0</td>\n",
       "      <td>1</td>\n",
       "    </tr>\n",
       "    <tr>\n",
       "      <th>8</th>\n",
       "      <td>0.580</td>\n",
       "      <td>0.02</td>\n",
       "      <td>2.0</td>\n",
       "      <td>0.0730</td>\n",
       "      <td>18.0</td>\n",
       "      <td>0.9968</td>\n",
       "      <td>3.36</td>\n",
       "      <td>0.57</td>\n",
       "      <td>9.5</td>\n",
       "      <td>1</td>\n",
       "    </tr>\n",
       "    <tr>\n",
       "      <th>9</th>\n",
       "      <td>0.500</td>\n",
       "      <td>0.36</td>\n",
       "      <td>5.1</td>\n",
       "      <td>0.0710</td>\n",
       "      <td>102.0</td>\n",
       "      <td>0.9978</td>\n",
       "      <td>3.35</td>\n",
       "      <td>0.80</td>\n",
       "      <td>10.5</td>\n",
       "      <td>0</td>\n",
       "    </tr>\n",
       "    <tr>\n",
       "      <th>10</th>\n",
       "      <td>0.580</td>\n",
       "      <td>0.08</td>\n",
       "      <td>1.8</td>\n",
       "      <td>0.0970</td>\n",
       "      <td>65.0</td>\n",
       "      <td>0.9959</td>\n",
       "      <td>3.28</td>\n",
       "      <td>0.54</td>\n",
       "      <td>9.2</td>\n",
       "      <td>0</td>\n",
       "    </tr>\n",
       "    <tr>\n",
       "      <th>11</th>\n",
       "      <td>0.500</td>\n",
       "      <td>0.36</td>\n",
       "      <td>5.1</td>\n",
       "      <td>0.0710</td>\n",
       "      <td>102.0</td>\n",
       "      <td>0.9978</td>\n",
       "      <td>3.35</td>\n",
       "      <td>0.80</td>\n",
       "      <td>10.5</td>\n",
       "      <td>0</td>\n",
       "    </tr>\n",
       "    <tr>\n",
       "      <th>12</th>\n",
       "      <td>0.615</td>\n",
       "      <td>0.00</td>\n",
       "      <td>1.6</td>\n",
       "      <td>0.0890</td>\n",
       "      <td>59.0</td>\n",
       "      <td>0.9943</td>\n",
       "      <td>3.57</td>\n",
       "      <td>0.52</td>\n",
       "      <td>9.9</td>\n",
       "      <td>0</td>\n",
       "    </tr>\n",
       "    <tr>\n",
       "      <th>13</th>\n",
       "      <td>0.610</td>\n",
       "      <td>0.29</td>\n",
       "      <td>1.6</td>\n",
       "      <td>0.1140</td>\n",
       "      <td>29.0</td>\n",
       "      <td>0.9974</td>\n",
       "      <td>3.26</td>\n",
       "      <td>0.93</td>\n",
       "      <td>9.1</td>\n",
       "      <td>0</td>\n",
       "    </tr>\n",
       "    <tr>\n",
       "      <th>14</th>\n",
       "      <td>0.620</td>\n",
       "      <td>0.18</td>\n",
       "      <td>3.8</td>\n",
       "      <td>0.1261</td>\n",
       "      <td>112.1</td>\n",
       "      <td>0.9986</td>\n",
       "      <td>3.16</td>\n",
       "      <td>0.88</td>\n",
       "      <td>9.2</td>\n",
       "      <td>0</td>\n",
       "    </tr>\n",
       "    <tr>\n",
       "      <th>15</th>\n",
       "      <td>0.620</td>\n",
       "      <td>0.19</td>\n",
       "      <td>3.9</td>\n",
       "      <td>0.1261</td>\n",
       "      <td>112.1</td>\n",
       "      <td>0.9986</td>\n",
       "      <td>3.17</td>\n",
       "      <td>0.93</td>\n",
       "      <td>9.2</td>\n",
       "      <td>0</td>\n",
       "    </tr>\n",
       "    <tr>\n",
       "      <th>16</th>\n",
       "      <td>0.280</td>\n",
       "      <td>0.56</td>\n",
       "      <td>1.8</td>\n",
       "      <td>0.0920</td>\n",
       "      <td>103.0</td>\n",
       "      <td>0.9969</td>\n",
       "      <td>3.30</td>\n",
       "      <td>0.75</td>\n",
       "      <td>10.5</td>\n",
       "      <td>1</td>\n",
       "    </tr>\n",
       "    <tr>\n",
       "      <th>17</th>\n",
       "      <td>0.560</td>\n",
       "      <td>0.28</td>\n",
       "      <td>1.7</td>\n",
       "      <td>0.1261</td>\n",
       "      <td>56.0</td>\n",
       "      <td>0.9968</td>\n",
       "      <td>3.11</td>\n",
       "      <td>0.93</td>\n",
       "      <td>9.3</td>\n",
       "      <td>0</td>\n",
       "    </tr>\n",
       "    <tr>\n",
       "      <th>18</th>\n",
       "      <td>0.590</td>\n",
       "      <td>0.08</td>\n",
       "      <td>4.4</td>\n",
       "      <td>0.0860</td>\n",
       "      <td>29.0</td>\n",
       "      <td>0.9974</td>\n",
       "      <td>3.38</td>\n",
       "      <td>0.50</td>\n",
       "      <td>9.0</td>\n",
       "      <td>0</td>\n",
       "    </tr>\n",
       "    <tr>\n",
       "      <th>19</th>\n",
       "      <td>0.320</td>\n",
       "      <td>0.51</td>\n",
       "      <td>1.8</td>\n",
       "      <td>0.1261</td>\n",
       "      <td>56.0</td>\n",
       "      <td>0.9969</td>\n",
       "      <td>3.04</td>\n",
       "      <td>0.93</td>\n",
       "      <td>9.2</td>\n",
       "      <td>0</td>\n",
       "    </tr>\n",
       "  </tbody>\n",
       "</table>\n",
       "</div>"
      ],
      "text/plain": [
       "    volatile acidity  citric acid  residual sugar  chlorides  \\\n",
       "0              0.700         0.00             1.9     0.0760   \n",
       "1              0.840         0.00             2.6     0.0980   \n",
       "2              0.760         0.04             2.3     0.0920   \n",
       "3              0.280         0.56             1.9     0.0750   \n",
       "4              0.700         0.00             1.9     0.0760   \n",
       "5              0.660         0.00             1.8     0.0750   \n",
       "6              0.600         0.06             1.6     0.0690   \n",
       "7              0.650         0.00             1.4     0.0650   \n",
       "8              0.580         0.02             2.0     0.0730   \n",
       "9              0.500         0.36             5.1     0.0710   \n",
       "10             0.580         0.08             1.8     0.0970   \n",
       "11             0.500         0.36             5.1     0.0710   \n",
       "12             0.615         0.00             1.6     0.0890   \n",
       "13             0.610         0.29             1.6     0.1140   \n",
       "14             0.620         0.18             3.8     0.1261   \n",
       "15             0.620         0.19             3.9     0.1261   \n",
       "16             0.280         0.56             1.8     0.0920   \n",
       "17             0.560         0.28             1.7     0.1261   \n",
       "18             0.590         0.08             4.4     0.0860   \n",
       "19             0.320         0.51             1.8     0.1261   \n",
       "\n",
       "    total sulfur dioxide  density    pH  sulphates  alcohol  quality  \n",
       "0                   34.0   0.9978  3.51       0.56      9.4        0  \n",
       "1                   67.0   0.9968  3.20       0.68      9.8        0  \n",
       "2                   54.0   0.9970  3.26       0.65      9.8        0  \n",
       "3                   60.0   0.9980  3.16       0.58      9.8        0  \n",
       "4                   34.0   0.9978  3.51       0.56      9.4        0  \n",
       "5                   40.0   0.9978  3.51       0.56      9.4        0  \n",
       "6                   59.0   0.9964  3.30       0.46      9.4        0  \n",
       "7                   21.0   0.9946  3.39       0.47     10.0        1  \n",
       "8                   18.0   0.9968  3.36       0.57      9.5        1  \n",
       "9                  102.0   0.9978  3.35       0.80     10.5        0  \n",
       "10                  65.0   0.9959  3.28       0.54      9.2        0  \n",
       "11                 102.0   0.9978  3.35       0.80     10.5        0  \n",
       "12                  59.0   0.9943  3.57       0.52      9.9        0  \n",
       "13                  29.0   0.9974  3.26       0.93      9.1        0  \n",
       "14                 112.1   0.9986  3.16       0.88      9.2        0  \n",
       "15                 112.1   0.9986  3.17       0.93      9.2        0  \n",
       "16                 103.0   0.9969  3.30       0.75     10.5        1  \n",
       "17                  56.0   0.9968  3.11       0.93      9.3        0  \n",
       "18                  29.0   0.9974  3.38       0.50      9.0        0  \n",
       "19                  56.0   0.9969  3.04       0.93      9.2        0  "
      ]
     },
     "execution_count": 108,
     "metadata": {},
     "output_type": "execute_result"
    }
   ],
   "source": [
    "df.head(20)"
   ]
  },
  {
   "cell_type": "code",
   "execution_count": 150,
   "id": "96e9a648",
   "metadata": {},
   "outputs": [
    {
     "data": {
      "text/plain": [
       "0    1382\n",
       "1     217\n",
       "Name: quality, dtype: int64"
      ]
     },
     "execution_count": 150,
     "metadata": {},
     "output_type": "execute_result"
    }
   ],
   "source": [
    "df['quality'].value_counts()"
   ]
  },
  {
   "cell_type": "code",
   "execution_count": 151,
   "id": "1aa4c93a",
   "metadata": {},
   "outputs": [
    {
     "name": "stderr",
     "output_type": "stream",
     "text": [
      "C:\\Users\\Akshit Kaushik\\anaconda3\\lib\\site-packages\\seaborn\\_decorators.py:36: FutureWarning: Pass the following variable as a keyword arg: x. From version 0.12, the only valid positional argument will be `data`, and passing other arguments without an explicit keyword will result in an error or misinterpretation.\n",
      "  warnings.warn(\n"
     ]
    },
    {
     "data": {
      "text/plain": [
       "<AxesSubplot:xlabel='quality', ylabel='count'>"
      ]
     },
     "execution_count": 151,
     "metadata": {},
     "output_type": "execute_result"
    },
    {
     "data": {
      "image/png": "[encoded data removed]",
      "text/plain": [
       "<Figure size 432x288 with 1 Axes>"
      ]
     },
     "metadata": {
      "needs_background": "light"
     },
     "output_type": "display_data"
    }
   ],
   "source": [
    "sns.countplot(df['quality'])"
   ]
  },
  {
   "cell_type": "code",
   "execution_count": 155,
   "id": "9f22de09",
   "metadata": {},
   "outputs": [],
   "source": [
    "# data is inbalanced"
   ]
  },
  {
   "cell_type": "markdown",
   "id": "dd938561",
   "metadata": {},
   "source": [
    "### Selecting Dependent(x) and Independent(y) Variable"
   ]
  },
  {
   "cell_type": "code",
   "execution_count": 109,
   "id": "4cf84697",
   "metadata": {},
   "outputs": [
    {
     "name": "stdout",
     "output_type": "stream",
     "text": [
      "<class 'pandas.core.frame.DataFrame'>\n",
      "<class 'pandas.core.series.Series'>\n",
      "(1599, 9)\n",
      "(1599,)\n"
     ]
    }
   ],
   "source": [
    "x = df.drop(['quality'],axis =1)\n",
    "y = df['quality']\n",
    "print(type(x))\n",
    "print(type(y))\n",
    "print(x.shape)\n",
    "print(y.shape)"
   ]
  },
  {
   "cell_type": "code",
   "execution_count": 156,
   "id": "c32aa772",
   "metadata": {},
   "outputs": [],
   "source": [
    "from imblearn.over_sampling import SMOTE\n",
    "# Resampling the minority class. The strategy can be changed as required.\n",
    "sm = SMOTE(sampling_strategy = 'minority',random_state = 42)\n",
    "x_res, y_res = sm.fit_resample(x_train, y_train)"
   ]
  },
  {
   "cell_type": "code",
   "execution_count": 158,
   "id": "ef37b554",
   "metadata": {},
   "outputs": [
    {
     "data": {
      "text/plain": [
       "0    1035\n",
       "1    1035\n",
       "Name: quality, dtype: int64"
      ]
     },
     "execution_count": 158,
     "metadata": {},
     "output_type": "execute_result"
    }
   ],
   "source": [
    "y_res.value_counts()"
   ]
  },
  {
   "cell_type": "markdown",
   "id": "e3a1198a",
   "metadata": {},
   "source": [
    "### Split the data into train and test"
   ]
  },
  {
   "cell_type": "code",
   "execution_count": 113,
   "id": "c48418ed",
   "metadata": {},
   "outputs": [],
   "source": [
    "from sklearn.model_selection import train_test_split\n",
    "from sklearn.metrics import confusion_matrix, classification_report,accuracy_score"
   ]
  },
  {
   "cell_type": "code",
   "execution_count": 159,
   "id": "a001306a",
   "metadata": {},
   "outputs": [
    {
     "name": "stdout",
     "output_type": "stream",
     "text": [
      "(1552, 9)\n",
      "(518, 9)\n",
      "(1552,)\n",
      "(518,)\n"
     ]
    }
   ],
   "source": [
    "x_train,x_test,y_train,y_test = train_test_split(x_res, y_res,test_size=0.25,random_state=42)\n",
    "print(x_train.shape)\n",
    "print(x_test.shape)\n",
    "print(y_train.shape)\n",
    "print(y_test.shape)"
   ]
  },
  {
   "cell_type": "code",
   "execution_count": 154,
   "id": "d0e48467",
   "metadata": {},
   "outputs": [],
   "source": []
  },
  {
   "cell_type": "markdown",
   "id": "2502d865",
   "metadata": {},
   "source": [
    "# Creating Model"
   ]
  },
  {
   "cell_type": "code",
   "execution_count": 124,
   "id": "43e25d30",
   "metadata": {},
   "outputs": [],
   "source": [
    "def model_metrics(model,x_train,x_test,y_train,y_test):  # model = instance of model\n",
    "    model.fit(x_train,y_train)\n",
    "    train_scr = model.score(x_train,y_train)\n",
    "    test_scr = model.score(x_test,y_test)\n",
    "    print('Training score',train_scr)\n",
    "    print('Testing score',test_scr)\n",
    "    ypred = model.predict(x_test)\n",
    "    print('Predictions\\n',ypred)\n",
    "    res = {'Train_Score':train_scr,'Test_Score':test_scr}\n",
    "    cm = confusion_matrix(y_test,ypred)\n",
    "    print(cm)\n",
    "    print(classification_report(y_test,ypred))\n",
    "    res = {'Train_Score':train_scr,'Test_Score':test_scr}\n",
    "    return res\n"
   ]
  },
  {
   "cell_type": "markdown",
   "id": "1d6bc889",
   "metadata": {},
   "source": [
    "#### Model- 1 Decision Tree Classifier"
   ]
  },
  {
   "cell_type": "code",
   "execution_count": 119,
   "id": "b1c2d268",
   "metadata": {},
   "outputs": [],
   "source": [
    "from sklearn.tree import DecisionTreeClassifier, plot_tree, export_text"
   ]
  },
  {
   "cell_type": "code",
   "execution_count": 160,
   "id": "7f0535a1",
   "metadata": {},
   "outputs": [
    {
     "name": "stdout",
     "output_type": "stream",
     "text": [
      "Training score 1.0\n",
      "Testing score 0.8861003861003861\n",
      "Predictions\n",
      " [0 1 1 0 0 1 0 1 0 1 1 1 1 0 1 0 1 0 0 1 1 1 0 0 1 0 1 1 1 1 0 1 1 1 0 1 1\n",
      " 0 0 0 0 0 1 0 1 0 1 1 1 1 0 1 0 1 0 1 0 0 1 1 1 0 0 1 0 0 1 0 0 1 0 0 1 1\n",
      " 0 1 1 1 1 1 1 1 1 0 0 1 0 1 1 0 0 1 0 0 1 1 0 1 1 0 0 0 0 0 0 1 1 0 0 0 0\n",
      " 1 0 0 1 1 0 1 0 1 1 1 1 0 0 1 1 1 1 0 0 1 0 0 0 0 1 1 0 1 0 1 0 0 0 0 0 1\n",
      " 0 1 1 0 0 1 0 0 0 0 0 0 0 1 1 1 0 0 1 0 0 1 1 1 0 1 1 0 0 0 0 0 0 1 0 1 0\n",
      " 1 0 1 0 1 1 0 1 1 1 0 0 1 0 1 1 1 1 0 0 0 1 1 1 1 0 0 1 0 1 0 0 0 0 0 0 1\n",
      " 1 0 0 0 1 1 0 1 1 0 0 0 1 0 1 1 0 0 0 1 0 1 1 1 1 1 1 0 0 0 1 0 1 1 0 1 1\n",
      " 0 0 0 1 1 0 0 1 0 0 1 1 0 1 0 1 0 0 1 0 1 1 0 0 1 1 0 1 1 1 1 1 0 1 0 1 0\n",
      " 0 1 0 0 1 0 1 0 0 0 1 0 0 0 1 0 1 1 0 0 0 0 0 1 0 1 0 0 0 0 1 1 1 1 1 0 1\n",
      " 1 1 1 0 0 1 1 0 0 0 0 0 1 1 0 0 0 1 1 0 1 1 1 1 1 0 1 0 1 1 1 0 1 0 0 1 1\n",
      " 0 0 1 1 1 1 0 1 0 0 0 1 0 1 1 0 0 1 0 1 1 1 0 1 0 0 1 1 1 1 1 0 1 0 0 1 0\n",
      " 1 1 1 1 0 1 1 0 0 0 1 0 1 1 0 1 0 1 0 0 1 1 0 0 0 0 1 1 1 0 1 0 1 1 1 0 0\n",
      " 0 1 1 1 1 1 1 0 1 0 1 1 0 1 0 1 0 1 1 1 1 0 1 1 0 1 0 0 1 0 0 0 1 1 1 0 0\n",
      " 0 0 1 1 1 0 0 0 0 0 0 0 0 0 1 1 0 1 0 1 0 1 1 0 0 1 1 0 1 1 1 0 0 1 0 0 1]\n",
      "[[224  27]\n",
      " [ 32 235]]\n",
      "              precision    recall  f1-score   support\n",
      "\n",
      "           0       0.88      0.89      0.88       251\n",
      "           1       0.90      0.88      0.89       267\n",
      "\n",
      "    accuracy                           0.89       518\n",
      "   macro avg       0.89      0.89      0.89       518\n",
      "weighted avg       0.89      0.89      0.89       518\n",
      "\n"
     ]
    }
   ],
   "source": [
    "m1 = DecisionTreeClassifier()\n",
    "dt1_res = model_metrics(m1,x_train,x_test,y_train,y_test)\n"
   ]
  },
  {
   "cell_type": "code",
   "execution_count": 182,
   "id": "820487aa",
   "metadata": {},
   "outputs": [
    {
     "data": {
      "text/html": [
       "<div>\n",
       "<style scoped>\n",
       "    .dataframe tbody tr th:only-of-type {\n",
       "        vertical-align: middle;\n",
       "    }\n",
       "\n",
       "    .dataframe tbody tr th {\n",
       "        vertical-align: top;\n",
       "    }\n",
       "\n",
       "    .dataframe thead th {\n",
       "        text-align: right;\n",
       "    }\n",
       "</style>\n",
       "<table border=\"1\" class=\"dataframe\">\n",
       "  <thead>\n",
       "    <tr style=\"text-align: right;\">\n",
       "      <th></th>\n",
       "      <th>Train_Score</th>\n",
       "      <th>Test_Score</th>\n",
       "    </tr>\n",
       "  </thead>\n",
       "  <tbody>\n",
       "    <tr>\n",
       "      <th>Decision Tree</th>\n",
       "      <td>1.0</td>\n",
       "      <td>0.8861</td>\n",
       "    </tr>\n",
       "  </tbody>\n",
       "</table>\n",
       "</div>"
      ],
      "text/plain": [
       "               Train_Score  Test_Score\n",
       "Decision Tree          1.0      0.8861"
      ]
     },
     "execution_count": 182,
     "metadata": {},
     "output_type": "execute_result"
    }
   ],
   "source": [
    "result1 = pd.DataFrame(dt1_res,index=['Decision Tree'])\n",
    "result1"
   ]
  },
  {
   "cell_type": "markdown",
   "id": "470333ec",
   "metadata": {},
   "source": [
    "### HyperParameter Tuning Using GridSearchCV"
   ]
  },
  {
   "cell_type": "code",
   "execution_count": 127,
   "id": "a1931829",
   "metadata": {},
   "outputs": [],
   "source": [
    "from sklearn.model_selection import GridSearchCV"
   ]
  },
  {
   "cell_type": "code",
   "execution_count": 135,
   "id": "a37de59c",
   "metadata": {},
   "outputs": [],
   "source": [
    "hparams_dt = {'criterion':['gini','entropy'],\n",
    "             'max_depth':list(range(4,20)),\n",
    "             'min_samples_split':[8,10,11,12,13,14,15,16,17,18,19,20,21,22,23,24,25,26,27,28,29,30]}"
   ]
  },
  {
   "cell_type": "code",
   "execution_count": 143,
   "id": "f0c24ee6",
   "metadata": {},
   "outputs": [
    {
     "data": {
      "text/plain": [
       "GridSearchCV(cv=KFold(n_splits=9, random_state=None, shuffle=False),\n",
       "             estimator=DecisionTreeClassifier(),\n",
       "             param_grid={'criterion': ['gini', 'entropy'],\n",
       "                         'max_depth': [4, 5, 6, 7, 8, 9, 10, 11, 12, 13, 14, 15,\n",
       "                                       16, 17, 18, 19],\n",
       "                         'min_samples_split': [8, 10, 11, 12, 13, 14, 15, 16,\n",
       "                                               17, 18, 19, 20, 21, 22, 23, 24,\n",
       "                                               25, 26, 27, 28, 29, 30]},\n",
       "             scoring='accuracy')"
      ]
     },
     "execution_count": 143,
     "metadata": {},
     "output_type": "execute_result"
    }
   ],
   "source": [
    "bmodel = DecisionTreeClassifier()\n",
    "kf = KFold(n_splits=9)\n",
    "gs1 = GridSearchCV(estimator=bmodel,param_grid=hparams_dt,cv=kf, scoring='accuracy') \n",
    "gs1.fit(x_train,y_train)"
   ]
  },
  {
   "cell_type": "code",
   "execution_count": 144,
   "id": "bd67eb8d",
   "metadata": {},
   "outputs": [
    {
     "name": "stdout",
     "output_type": "stream",
     "text": [
      "Best Hyperparamters\n",
      "{'criterion': 'gini', 'max_depth': 5, 'min_samples_split': 10}\n",
      "DecisionTreeClassifier(max_depth=5, min_samples_split=10)\n"
     ]
    }
   ],
   "source": [
    "print('Best Hyperparamters')\n",
    "print(gs1.best_params_)\n",
    "print(gs1.best_estimator_)"
   ]
  },
  {
   "cell_type": "code",
   "execution_count": 162,
   "id": "0fffeed4",
   "metadata": {},
   "outputs": [
    {
     "name": "stdout",
     "output_type": "stream",
     "text": [
      "Training score 0.8917525773195877\n",
      "Testing score 0.861003861003861\n",
      "Predictions\n",
      " [0 0 1 0 0 1 0 1 0 1 1 1 1 0 1 0 1 0 0 1 1 1 0 0 1 1 1 1 1 1 0 1 1 1 0 0 1\n",
      " 0 0 0 1 0 1 0 1 1 1 0 1 1 0 1 1 1 0 1 0 0 0 1 1 0 0 1 0 0 0 0 0 0 0 0 1 1\n",
      " 0 1 1 1 1 1 1 1 1 0 1 1 0 1 1 0 0 1 0 0 1 1 0 0 1 0 0 1 0 0 1 1 1 0 0 0 1\n",
      " 1 0 0 1 1 0 1 0 1 1 1 1 1 0 1 1 1 1 0 0 1 0 0 0 0 1 1 0 1 0 1 0 1 0 0 0 1\n",
      " 0 1 1 0 0 1 1 0 1 0 1 0 0 1 1 1 0 0 1 0 0 1 1 1 1 1 1 1 0 0 0 0 0 1 0 1 0\n",
      " 1 1 1 0 1 1 0 1 0 1 0 0 1 0 1 1 1 1 0 0 1 1 1 1 1 0 1 1 0 1 1 1 0 0 0 0 1\n",
      " 1 0 0 0 1 0 0 1 1 0 0 0 1 1 1 1 0 0 0 1 0 1 0 1 1 1 0 0 1 0 0 0 1 1 0 1 1\n",
      " 0 0 0 1 1 0 0 1 0 0 1 1 0 1 1 1 0 0 1 0 1 1 0 0 1 1 0 1 0 1 1 1 0 0 0 1 0\n",
      " 0 1 1 0 1 0 1 0 0 0 1 1 1 0 1 1 1 1 0 0 0 0 1 1 1 1 0 0 0 0 1 1 1 1 1 0 1\n",
      " 1 1 1 0 0 1 1 1 1 0 1 0 1 1 0 1 0 0 1 1 1 0 1 1 1 1 1 0 1 1 1 0 1 1 1 1 1\n",
      " 0 0 1 1 1 1 0 1 0 0 0 1 0 1 1 0 0 1 1 1 1 1 0 1 0 0 1 1 1 0 1 1 1 0 0 1 1\n",
      " 1 1 1 1 0 1 1 0 1 0 1 0 1 1 0 1 0 1 0 0 0 1 0 0 0 0 1 0 1 0 1 0 1 1 1 0 0\n",
      " 0 1 0 0 1 1 1 0 1 0 1 1 0 1 0 1 0 1 1 1 1 0 1 1 0 1 0 0 1 0 0 0 1 1 1 0 0\n",
      " 0 1 1 1 1 0 0 0 1 0 0 0 0 0 1 1 0 1 0 1 0 1 1 1 0 1 1 0 1 1 1 0 0 1 0 0 1]\n",
      "[[206  45]\n",
      " [ 27 240]]\n",
      "              precision    recall  f1-score   support\n",
      "\n",
      "           0       0.88      0.82      0.85       251\n",
      "           1       0.84      0.90      0.87       267\n",
      "\n",
      "    accuracy                           0.86       518\n",
      "   macro avg       0.86      0.86      0.86       518\n",
      "weighted avg       0.86      0.86      0.86       518\n",
      "\n"
     ]
    }
   ],
   "source": [
    "gs_based_model = DecisionTreeClassifier(**gs1.best_params_)\n",
    "gs_based_res = model_metrics(gs_based_model,x_train,x_test,y_train,y_test)"
   ]
  },
  {
   "cell_type": "code",
   "execution_count": 180,
   "id": "1d8ab222",
   "metadata": {},
   "outputs": [
    {
     "data": {
      "text/html": [
       "<div>\n",
       "<style scoped>\n",
       "    .dataframe tbody tr th:only-of-type {\n",
       "        vertical-align: middle;\n",
       "    }\n",
       "\n",
       "    .dataframe tbody tr th {\n",
       "        vertical-align: top;\n",
       "    }\n",
       "\n",
       "    .dataframe thead th {\n",
       "        text-align: right;\n",
       "    }\n",
       "</style>\n",
       "<table border=\"1\" class=\"dataframe\">\n",
       "  <thead>\n",
       "    <tr style=\"text-align: right;\">\n",
       "      <th></th>\n",
       "      <th>Train_Score</th>\n",
       "      <th>Test_Score</th>\n",
       "    </tr>\n",
       "  </thead>\n",
       "  <tbody>\n",
       "    <tr>\n",
       "      <th>Decision Tree Hyper param</th>\n",
       "      <td>0.891753</td>\n",
       "      <td>0.861004</td>\n",
       "    </tr>\n",
       "  </tbody>\n",
       "</table>\n",
       "</div>"
      ],
      "text/plain": [
       "                            Train_Score  Test_Score\n",
       "Decision Tree Hyper param      0.891753    0.861004"
      ]
     },
     "execution_count": 180,
     "metadata": {},
     "output_type": "execute_result"
    }
   ],
   "source": [
    "result2 = pd.DataFrame(gs_based_res,index=['Decision Tree Hyper param '])\n",
    "result2"
   ]
  },
  {
   "cell_type": "markdown",
   "id": "6ff54a16",
   "metadata": {},
   "source": [
    "# Model 2 Random Forest"
   ]
  },
  {
   "cell_type": "code",
   "execution_count": 164,
   "id": "4b03a60b",
   "metadata": {},
   "outputs": [
    {
     "name": "stdout",
     "output_type": "stream",
     "text": [
      "Training score 1.0\n",
      "Testing score 0.9208494208494209\n",
      "Predictions\n",
      " [0 1 1 0 0 1 0 1 0 1 1 1 0 0 1 0 1 0 0 1 1 1 0 1 1 1 1 1 1 1 0 1 1 0 0 0 1\n",
      " 0 0 0 1 0 1 0 1 1 1 1 1 1 0 1 1 1 0 1 0 0 1 1 1 0 0 1 0 0 0 0 0 1 0 0 1 1\n",
      " 0 1 1 1 1 1 1 1 1 0 0 1 1 0 1 1 0 1 0 0 1 1 0 1 1 0 0 0 0 0 0 1 1 0 0 0 1\n",
      " 1 0 0 1 1 0 1 0 1 1 1 1 1 0 1 1 1 1 1 0 1 0 0 0 0 1 1 0 1 0 1 0 1 0 0 0 1\n",
      " 0 0 1 0 0 1 1 0 0 0 1 0 0 1 1 0 0 0 1 0 0 1 1 1 0 1 1 0 0 0 0 0 0 1 0 1 0\n",
      " 1 0 1 0 1 1 0 1 1 1 0 0 1 0 0 1 1 1 0 0 0 1 1 1 1 0 0 1 0 1 1 1 0 0 0 0 1\n",
      " 1 0 0 0 1 1 0 1 1 0 1 0 1 0 0 1 0 0 0 1 0 1 1 1 1 1 1 0 1 0 0 0 1 0 0 1 1\n",
      " 0 0 0 1 1 0 0 1 0 0 1 1 0 1 1 1 0 0 1 0 1 1 0 0 1 1 0 1 1 1 1 1 0 1 0 1 0\n",
      " 0 1 0 0 1 0 1 0 0 0 1 1 1 0 1 0 1 1 0 0 0 0 1 1 1 1 0 0 0 0 1 1 0 1 1 0 1\n",
      " 1 1 1 0 0 1 1 0 0 0 1 0 1 1 0 0 0 0 1 1 0 0 1 1 1 0 1 0 0 1 1 0 1 1 1 1 1\n",
      " 1 0 1 1 1 1 0 1 0 0 0 1 0 1 1 0 0 1 1 1 1 1 0 1 0 0 1 1 1 1 1 1 1 0 0 1 1\n",
      " 1 1 1 1 0 1 1 0 0 0 1 0 1 1 0 1 0 1 0 0 0 1 0 0 0 0 0 1 1 0 1 0 0 1 1 0 0\n",
      " 0 1 1 1 1 1 1 0 1 0 1 1 0 1 0 1 0 1 1 1 1 0 1 1 0 1 0 0 1 0 0 0 1 1 0 0 0\n",
      " 0 1 1 1 1 0 0 0 1 1 0 0 0 0 1 1 0 1 0 1 0 1 1 0 0 1 1 0 0 1 1 0 0 1 0 0 1]\n",
      "[[227  24]\n",
      " [ 17 250]]\n",
      "              precision    recall  f1-score   support\n",
      "\n",
      "           0       0.93      0.90      0.92       251\n",
      "           1       0.91      0.94      0.92       267\n",
      "\n",
      "    accuracy                           0.92       518\n",
      "   macro avg       0.92      0.92      0.92       518\n",
      "weighted avg       0.92      0.92      0.92       518\n",
      "\n"
     ]
    }
   ],
   "source": [
    "m2 = RandomForestClassifier()\n",
    "rf_model = model_metrics(m2,x_train,x_test,y_train,y_test)"
   ]
  },
  {
   "cell_type": "code",
   "execution_count": 179,
   "id": "e8c3fe0f",
   "metadata": {},
   "outputs": [
    {
     "data": {
      "text/html": [
       "<div>\n",
       "<style scoped>\n",
       "    .dataframe tbody tr th:only-of-type {\n",
       "        vertical-align: middle;\n",
       "    }\n",
       "\n",
       "    .dataframe tbody tr th {\n",
       "        vertical-align: top;\n",
       "    }\n",
       "\n",
       "    .dataframe thead th {\n",
       "        text-align: right;\n",
       "    }\n",
       "</style>\n",
       "<table border=\"1\" class=\"dataframe\">\n",
       "  <thead>\n",
       "    <tr style=\"text-align: right;\">\n",
       "      <th></th>\n",
       "      <th>Train_Score</th>\n",
       "      <th>Test_Score</th>\n",
       "    </tr>\n",
       "  </thead>\n",
       "  <tbody>\n",
       "    <tr>\n",
       "      <th>Random forest</th>\n",
       "      <td>1.0</td>\n",
       "      <td>0.920849</td>\n",
       "    </tr>\n",
       "  </tbody>\n",
       "</table>\n",
       "</div>"
      ],
      "text/plain": [
       "               Train_Score  Test_Score\n",
       "Random forest          1.0    0.920849"
      ]
     },
     "execution_count": 179,
     "metadata": {},
     "output_type": "execute_result"
    }
   ],
   "source": [
    "result3 = pd.DataFrame(rf_model,index=['Random forest'])\n",
    "result3"
   ]
  },
  {
   "cell_type": "markdown",
   "id": "9af7dea3",
   "metadata": {},
   "source": [
    "### HyperParameter Tuning Using GridSearchCV"
   ]
  },
  {
   "cell_type": "code",
   "execution_count": 167,
   "id": "4014bd77",
   "metadata": {},
   "outputs": [],
   "source": [
    "param_grid = {\n",
    "    'n_estimators': [25, 50, 100, 150],\n",
    "    'max_features': ['sqrt', 'log2', None],\n",
    "    'max_depth': [3, 6, 9,11,15,19,25],\n",
    "    'max_leaf_nodes': [3, 6, 9,11,15,19,26],\n",
    "}"
   ]
  },
  {
   "cell_type": "code",
   "execution_count": 171,
   "id": "9be70d10",
   "metadata": {},
   "outputs": [
    {
     "data": {
      "text/plain": [
       "GridSearchCV(cv=KFold(n_splits=5, random_state=None, shuffle=False),\n",
       "             estimator=RandomForestClassifier(),\n",
       "             param_grid={'max_depth': [3, 6, 9, 11, 15, 19, 25],\n",
       "                         'max_features': ['sqrt', 'log2', None],\n",
       "                         'max_leaf_nodes': [3, 6, 9, 11, 15, 19, 26],\n",
       "                         'n_estimators': [25, 50, 100, 150]},\n",
       "             scoring='accuracy')"
      ]
     },
     "execution_count": 171,
     "metadata": {},
     "output_type": "execute_result"
    }
   ],
   "source": [
    "rfmodel = RandomForestClassifier()\n",
    "kf = KFold(n_splits=5)\n",
    "rf1 = GridSearchCV(estimator=rfmodel,param_grid=param_grid,cv=kf, scoring='accuracy') \n",
    "rf1.fit(x_train,y_train)"
   ]
  },
  {
   "cell_type": "code",
   "execution_count": 172,
   "id": "715bc5fd",
   "metadata": {},
   "outputs": [
    {
     "name": "stdout",
     "output_type": "stream",
     "text": [
      "Best Hyperparamters\n",
      "{'max_depth': 15, 'max_features': 'log2', 'max_leaf_nodes': 26, 'n_estimators': 50}\n",
      "RandomForestClassifier(max_depth=15, max_features='log2', max_leaf_nodes=26,\n",
      "                       n_estimators=50)\n"
     ]
    }
   ],
   "source": [
    "print('Best Hyperparamters')\n",
    "print(rf1.best_params_)\n",
    "print(rf1.best_estimator_)"
   ]
  },
  {
   "cell_type": "code",
   "execution_count": 175,
   "id": "55a84ab8",
   "metadata": {},
   "outputs": [
    {
     "name": "stdout",
     "output_type": "stream",
     "text": [
      "Training score 0.9162371134020618\n",
      "Testing score 0.9015444015444015\n",
      "Predictions\n",
      " [0 1 1 0 0 1 0 1 0 1 1 1 1 0 1 0 1 0 0 1 1 1 0 1 1 1 1 1 1 1 0 1 1 1 0 1 1\n",
      " 0 0 0 1 0 1 0 1 1 1 1 1 1 0 1 1 1 0 1 0 0 1 1 1 0 0 1 1 0 0 0 0 0 0 0 1 1\n",
      " 0 1 1 1 1 1 1 0 1 0 0 1 1 1 1 1 0 1 0 0 1 1 0 1 1 0 0 0 0 0 0 1 1 0 0 0 1\n",
      " 1 0 0 1 1 0 1 0 1 1 1 1 1 0 1 1 1 1 1 0 1 0 0 0 0 1 1 0 1 0 1 0 1 0 0 0 1\n",
      " 1 0 1 0 0 1 1 0 0 0 1 0 0 1 1 0 0 0 1 0 0 1 1 1 1 1 1 0 1 0 0 0 0 1 0 1 0\n",
      " 1 1 1 0 1 1 0 1 1 1 0 0 1 0 0 1 1 1 0 0 1 1 1 1 1 0 1 1 0 1 1 1 0 1 0 0 1\n",
      " 1 0 0 0 1 1 0 1 1 0 0 0 1 1 0 1 0 0 0 1 1 1 1 1 1 1 1 0 1 0 0 0 1 0 0 1 1\n",
      " 0 0 0 1 1 0 0 1 0 0 1 1 0 1 1 1 0 0 1 0 0 1 0 0 1 1 0 1 1 1 1 1 0 0 0 1 0\n",
      " 0 1 0 0 1 0 1 0 0 0 1 1 1 0 1 0 1 1 0 0 0 0 1 1 1 1 0 0 0 0 1 1 0 1 1 0 1\n",
      " 1 1 1 0 0 1 1 0 1 0 1 1 1 1 0 1 0 0 1 1 0 0 1 1 1 0 1 0 0 1 1 0 1 1 1 1 1\n",
      " 1 0 1 1 1 1 0 1 0 0 0 1 0 1 1 0 0 1 1 1 1 1 0 1 0 0 1 1 1 1 1 1 1 0 0 1 1\n",
      " 1 1 1 1 0 1 1 0 1 0 1 0 1 1 0 1 0 1 0 0 0 1 0 0 0 0 0 1 1 0 1 0 1 1 1 0 0\n",
      " 0 1 0 1 1 1 1 0 1 0 1 1 0 1 0 1 0 1 1 1 1 0 1 1 0 1 0 0 1 0 0 0 1 1 0 0 0\n",
      " 0 1 1 1 1 0 0 0 1 1 0 0 0 0 1 1 0 1 0 1 0 1 1 0 0 1 1 0 0 1 1 1 0 1 0 0 1]\n",
      "[[215  36]\n",
      " [ 15 252]]\n",
      "              precision    recall  f1-score   support\n",
      "\n",
      "           0       0.93      0.86      0.89       251\n",
      "           1       0.88      0.94      0.91       267\n",
      "\n",
      "    accuracy                           0.90       518\n",
      "   macro avg       0.90      0.90      0.90       518\n",
      "weighted avg       0.90      0.90      0.90       518\n",
      "\n"
     ]
    }
   ],
   "source": [
    "rf_based_model = RandomForestClassifier(**rf1.best_params_)\n",
    "rf_based_res = model_metrics(rf_based_model,x_train,x_test,y_train,y_test)"
   ]
  },
  {
   "cell_type": "code",
   "execution_count": 178,
   "id": "916f5eec",
   "metadata": {},
   "outputs": [
    {
     "data": {
      "text/html": [
       "<div>\n",
       "<style scoped>\n",
       "    .dataframe tbody tr th:only-of-type {\n",
       "        vertical-align: middle;\n",
       "    }\n",
       "\n",
       "    .dataframe tbody tr th {\n",
       "        vertical-align: top;\n",
       "    }\n",
       "\n",
       "    .dataframe thead th {\n",
       "        text-align: right;\n",
       "    }\n",
       "</style>\n",
       "<table border=\"1\" class=\"dataframe\">\n",
       "  <thead>\n",
       "    <tr style=\"text-align: right;\">\n",
       "      <th></th>\n",
       "      <th>Train_Score</th>\n",
       "      <th>Test_Score</th>\n",
       "    </tr>\n",
       "  </thead>\n",
       "  <tbody>\n",
       "    <tr>\n",
       "      <th>Randomforest hyper tunning</th>\n",
       "      <td>0.916237</td>\n",
       "      <td>0.901544</td>\n",
       "    </tr>\n",
       "  </tbody>\n",
       "</table>\n",
       "</div>"
      ],
      "text/plain": [
       "                            Train_Score  Test_Score\n",
       "Randomforest hyper tunning     0.916237    0.901544"
      ]
     },
     "execution_count": 178,
     "metadata": {},
     "output_type": "execute_result"
    }
   ],
   "source": [
    "result4 = pd.DataFrame(rf_based_res,index=['Randomforest hyper tunning'])\n",
    "result4"
   ]
  },
  {
   "cell_type": "markdown",
   "id": "e45fb691",
   "metadata": {},
   "source": [
    "#### Logistic Reg"
   ]
  },
  {
   "cell_type": "code",
   "execution_count": 173,
   "id": "4b8d0e65",
   "metadata": {},
   "outputs": [],
   "source": [
    "from sklearn.linear_model import LogisticRegression"
   ]
  },
  {
   "cell_type": "code",
   "execution_count": 183,
   "id": "471e51d1",
   "metadata": {},
   "outputs": [
    {
     "name": "stdout",
     "output_type": "stream",
     "text": [
      "Training score 0.8163659793814433\n",
      "Testing score 0.8262548262548263\n",
      "Predictions\n",
      " [0 1 1 0 0 1 0 1 0 1 1 1 1 0 0 0 1 0 0 1 1 1 0 1 1 1 1 1 1 1 0 1 1 0 0 0 1\n",
      " 0 0 0 1 0 1 1 1 0 1 0 1 1 0 1 1 1 1 1 0 0 1 1 1 0 0 1 1 0 1 0 0 0 1 0 0 0\n",
      " 0 1 1 1 1 1 1 0 1 0 0 1 1 1 1 1 0 1 1 0 0 0 0 1 0 0 0 0 0 0 0 1 1 1 1 0 1\n",
      " 1 0 0 1 1 0 1 0 1 1 1 1 0 0 1 1 1 1 1 0 1 0 0 0 0 1 1 0 1 0 1 1 1 0 0 0 1\n",
      " 1 0 1 0 0 1 1 0 0 0 1 0 0 1 1 0 0 0 1 1 0 1 1 0 1 1 1 0 1 0 0 0 0 1 0 1 0\n",
      " 1 1 1 0 1 0 0 1 0 1 0 0 1 0 0 1 1 0 0 0 1 1 1 1 1 0 0 1 0 1 1 1 0 1 0 0 0\n",
      " 1 0 0 0 1 1 1 1 1 0 1 0 1 1 1 1 0 0 0 1 1 1 1 1 1 1 1 0 1 0 1 0 1 0 1 1 1\n",
      " 0 0 0 1 1 0 0 1 0 0 1 1 0 1 1 1 0 0 1 0 1 1 0 0 1 0 0 1 1 1 1 1 0 1 0 1 1\n",
      " 0 1 0 0 0 0 1 0 0 0 1 1 0 0 1 0 1 1 0 0 0 1 0 1 1 1 0 1 0 0 1 1 0 1 1 0 1\n",
      " 1 1 1 0 0 1 1 1 1 0 1 0 1 1 1 1 0 0 1 1 0 0 1 1 0 1 1 0 0 1 1 1 1 0 1 1 1\n",
      " 1 0 1 1 1 1 0 1 0 0 0 1 0 1 1 0 0 1 1 1 1 1 0 1 0 0 1 1 0 1 1 1 1 0 0 1 1\n",
      " 1 1 1 1 0 1 1 0 1 0 0 0 1 0 1 1 0 1 0 1 0 1 0 0 0 0 0 0 1 0 1 0 0 1 1 0 0\n",
      " 0 1 0 1 1 1 1 0 1 0 1 1 0 1 0 1 0 1 1 1 1 0 1 1 0 1 0 0 1 1 0 0 1 1 0 0 0\n",
      " 0 1 1 1 1 0 0 0 0 0 0 0 0 0 1 1 0 1 0 1 0 1 1 0 0 1 1 0 0 1 1 1 0 1 0 0 1]\n",
      "[[198  53]\n",
      " [ 37 230]]\n",
      "              precision    recall  f1-score   support\n",
      "\n",
      "           0       0.84      0.79      0.81       251\n",
      "           1       0.81      0.86      0.84       267\n",
      "\n",
      "    accuracy                           0.83       518\n",
      "   macro avg       0.83      0.83      0.83       518\n",
      "weighted avg       0.83      0.83      0.83       518\n",
      "\n"
     ]
    }
   ],
   "source": [
    "lr1 = LogisticRegression(max_iter=1000)\n",
    "lr1_res = model_metrics(lr1,x_train,x_test,y_train,y_test)"
   ]
  },
  {
   "cell_type": "code",
   "execution_count": 184,
   "id": "e067f22c",
   "metadata": {},
   "outputs": [
    {
     "data": {
      "text/html": [
       "<div>\n",
       "<style scoped>\n",
       "    .dataframe tbody tr th:only-of-type {\n",
       "        vertical-align: middle;\n",
       "    }\n",
       "\n",
       "    .dataframe tbody tr th {\n",
       "        vertical-align: top;\n",
       "    }\n",
       "\n",
       "    .dataframe thead th {\n",
       "        text-align: right;\n",
       "    }\n",
       "</style>\n",
       "<table border=\"1\" class=\"dataframe\">\n",
       "  <thead>\n",
       "    <tr style=\"text-align: right;\">\n",
       "      <th></th>\n",
       "      <th>Train_Score</th>\n",
       "      <th>Test_Score</th>\n",
       "    </tr>\n",
       "  </thead>\n",
       "  <tbody>\n",
       "    <tr>\n",
       "      <th>Logistic Reg</th>\n",
       "      <td>0.816366</td>\n",
       "      <td>0.826255</td>\n",
       "    </tr>\n",
       "  </tbody>\n",
       "</table>\n",
       "</div>"
      ],
      "text/plain": [
       "              Train_Score  Test_Score\n",
       "Logistic Reg     0.816366    0.826255"
      ]
     },
     "execution_count": 184,
     "metadata": {},
     "output_type": "execute_result"
    }
   ],
   "source": [
    "result5 = pd.DataFrame(lr1_res,index=['Logistic Reg'])\n",
    "result5"
   ]
  },
  {
   "cell_type": "code",
   "execution_count": 185,
   "id": "b9e50dec",
   "metadata": {},
   "outputs": [
    {
     "data": {
      "text/html": [
       "<div>\n",
       "<style scoped>\n",
       "    .dataframe tbody tr th:only-of-type {\n",
       "        vertical-align: middle;\n",
       "    }\n",
       "\n",
       "    .dataframe tbody tr th {\n",
       "        vertical-align: top;\n",
       "    }\n",
       "\n",
       "    .dataframe thead th {\n",
       "        text-align: right;\n",
       "    }\n",
       "</style>\n",
       "<table border=\"1\" class=\"dataframe\">\n",
       "  <thead>\n",
       "    <tr style=\"text-align: right;\">\n",
       "      <th></th>\n",
       "      <th>Train_Score</th>\n",
       "      <th>Test_Score</th>\n",
       "    </tr>\n",
       "  </thead>\n",
       "  <tbody>\n",
       "    <tr>\n",
       "      <th>Decision Tree</th>\n",
       "      <td>1.000000</td>\n",
       "      <td>0.886100</td>\n",
       "    </tr>\n",
       "    <tr>\n",
       "      <th>Decision Tree Hyper param</th>\n",
       "      <td>0.891753</td>\n",
       "      <td>0.861004</td>\n",
       "    </tr>\n",
       "    <tr>\n",
       "      <th>Random forest</th>\n",
       "      <td>1.000000</td>\n",
       "      <td>0.920849</td>\n",
       "    </tr>\n",
       "    <tr>\n",
       "      <th>Randomforest hyper tunning</th>\n",
       "      <td>0.916237</td>\n",
       "      <td>0.901544</td>\n",
       "    </tr>\n",
       "    <tr>\n",
       "      <th>Logistic Reg</th>\n",
       "      <td>0.816366</td>\n",
       "      <td>0.826255</td>\n",
       "    </tr>\n",
       "  </tbody>\n",
       "</table>\n",
       "</div>"
      ],
      "text/plain": [
       "                            Train_Score  Test_Score\n",
       "Decision Tree                  1.000000    0.886100\n",
       "Decision Tree Hyper param      0.891753    0.861004\n",
       "Random forest                  1.000000    0.920849\n",
       "Randomforest hyper tunning     0.916237    0.901544\n",
       "Logistic Reg                   0.816366    0.826255"
      ]
     },
     "execution_count": 185,
     "metadata": {},
     "output_type": "execute_result"
    }
   ],
   "source": [
    "res = pd.concat([result1,result2,result3,result4,result5])\n",
    "res"
   ]
  },
  {
   "cell_type": "code",
   "execution_count": null,
   "id": "239bb9ad",
   "metadata": {},
   "outputs": [],
   "source": [
    "# Infernce based on Top MOdel\n",
    "Randomforest hyper tunning is the Best MOdel"
   ]
  },
  {
   "cell_type": "code",
   "execution_count": null,
   "id": "74c5b606",
   "metadata": {},
   "outputs": [],
   "source": []
  }
 ],
 "metadata": {
  "kernelspec": {
   "display_name": "Python 3 (ipykernel)",
   "language": "python",
   "name": "python3"
  },
  "language_info": {
   "codemirror_mode": {
    "name": "ipython",
    "version": 3
   },
   "file_extension": ".py",
   "mimetype": "text/x-python",
   "name": "python",
   "nbconvert_exporter": "python",
   "pygments_lexer": "ipython3",
   "version": "3.9.12"
  }
 },
 "nbformat": 4,
 "nbformat_minor": 5
}
